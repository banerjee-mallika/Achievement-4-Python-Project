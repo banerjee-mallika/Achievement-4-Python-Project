{
 "cells": [
  {
   "cell_type": "markdown",
   "id": "d6a39826-8ff2-4c00-a94f-689b054d50e7",
   "metadata": {},
   "source": [
    "# Importing libraries"
   ]
  },
  {
   "cell_type": "code",
   "execution_count": 58,
   "id": "f603d180-c0a0-4a05-883c-7c3d983377ca",
   "metadata": {},
   "outputs": [],
   "source": [
    "import pandas as pd\n",
    "import numpy as np\n",
    "import os"
   ]
  },
  {
   "cell_type": "markdown",
   "id": "29908f34-6f9a-4fb3-890a-5eb6c50dc688",
   "metadata": {},
   "source": [
    "# Path"
   ]
  },
  {
   "cell_type": "code",
   "execution_count": 59,
   "id": "123cba64-496f-4b4e-a71e-73edcc85ec75",
   "metadata": {},
   "outputs": [],
   "source": [
    "#Creating a path varaible - Shortcut for Importing Data Files\n",
    "path = r'C:\\Users\\Mallika\\Documents\\Career Foundry\\Module2- Data Immersion\\Achievement 4\\June2025_Instacart Basket Analysis'"
   ]
  },
  {
   "cell_type": "markdown",
   "id": "97bc0106-3d21-4009-8029-00af192f28d9",
   "metadata": {},
   "source": [
    "# Importing Data"
   ]
  },
  {
   "cell_type": "code",
   "execution_count": 60,
   "id": "dfff379f-0d04-440c-a818-9597d10d2fa9",
   "metadata": {},
   "outputs": [],
   "source": [
    "# Importing ords_prods_merge data\n",
    "df_ords_prods_merge = pd.read_pickle(os.path.join(path, '02 Data', 'Prepared Data', 'ords_prods_merge.pkl'))"
   ]
  },
  {
   "cell_type": "markdown",
   "id": "f8a8cc7c-01ce-4095-b7ef-173bccf58ec6",
   "metadata": {},
   "source": [
    "# 1.Creating a subset"
   ]
  },
  {
   "cell_type": "markdown",
   "id": "200de25f-e614-4e4b-8347-90ee24691868",
   "metadata": {},
   "source": [
    "# 1.1 Create \"price_label\" column"
   ]
  },
  {
   "cell_type": "code",
   "execution_count": 107,
   "id": "c64b7bad-b610-46a9-aab3-73e9cf159ead",
   "metadata": {},
   "outputs": [],
   "source": [
    "def price_label(row):\n",
    "    if row['prices'] <= 5: return 'Low-range product'\n",
    "    elif (row['prices'] > 5) and (row['prices'] <= 15): return 'Mid-range product'\n",
    "    elif row['prices'] > 15:  return 'High range product'\n",
    "    else: return 'Not enough data'"
   ]
  },
  {
   "cell_type": "code",
   "execution_count": 62,
   "id": "1a51e2b8-7d8c-4715-8c1b-2786f46cd8c6",
   "metadata": {},
   "outputs": [
    {
     "name": "stderr",
     "output_type": "stream",
     "text": [
      "C:\\Users\\Mallika\\AppData\\Local\\Temp\\ipykernel_23168\\2848743372.py:1: SettingWithCopyWarning: \n",
      "A value is trying to be set on a copy of a slice from a DataFrame.\n",
      "Try using .loc[row_indexer,col_indexer] = value instead\n",
      "\n",
      "See the caveats in the documentation: https://pandas.pydata.org/pandas-docs/stable/user_guide/indexing.html#returning-a-view-versus-a-copy\n",
      "  df['price_range'] = df.apply(price_label, axis=1)\n"
     ]
    }
   ],
   "source": [
    "df['price_range'] = df.apply(price_label, axis=1)"
   ]
  },
  {
   "cell_type": "code",
   "execution_count": 63,
   "id": "cc2b186c-06b3-4a23-b393-359b455ff2f1",
   "metadata": {},
   "outputs": [],
   "source": [
    "# Creating a subset due to the large size of the dataframe- first 1 million rows\n",
    "df = ords_prods_merge[:1000000]"
   ]
  },
  {
   "cell_type": "code",
   "execution_count": 64,
   "id": "8b7c4058-cf91-4f1c-939d-dee9dd48d78f",
   "metadata": {},
   "outputs": [
    {
     "data": {
      "text/plain": [
       "(1000000, 15)"
      ]
     },
     "execution_count": 64,
     "metadata": {},
     "output_type": "execute_result"
    }
   ],
   "source": [
    "df.shape"
   ]
  },
  {
   "cell_type": "code",
   "execution_count": 65,
   "id": "055fcb8b-6d00-4aec-823f-82a4702fa76d",
   "metadata": {},
   "outputs": [
    {
     "name": "stderr",
     "output_type": "stream",
     "text": [
      "C:\\Users\\Mallika\\AppData\\Local\\Temp\\ipykernel_23168\\3848246037.py:2: SettingWithCopyWarning: \n",
      "A value is trying to be set on a copy of a slice from a DataFrame.\n",
      "Try using .loc[row_indexer,col_indexer] = value instead\n",
      "\n",
      "See the caveats in the documentation: https://pandas.pydata.org/pandas-docs/stable/user_guide/indexing.html#returning-a-view-versus-a-copy\n",
      "  df.loc[df['prices'] > 15, 'price_range_loc'] = 'High-range product'\n"
     ]
    }
   ],
   "source": [
    "# Use loc() method on df subset to apply price range function.\n",
    "df.loc[df['prices'] > 15, 'price_range_loc'] = 'High-range product'\n",
    "df.loc[(df['prices'] <= 15) & (df['prices'] > 5), 'price_range_loc'] = 'Mid-range product'\n",
    "df.loc[df['prices'] <= 5, 'price_range_loc'] = 'Low-range product'"
   ]
  },
  {
   "cell_type": "code",
   "execution_count": 66,
   "id": "bc5df0f3-a7db-423a-bda5-1d989ef69740",
   "metadata": {},
   "outputs": [
    {
     "data": {
      "text/plain": [
       "price_range_loc\n",
       "Mid-range product     673340\n",
       "Low-range product     314392\n",
       "High-range product     12268\n",
       "Name: count, dtype: int64"
      ]
     },
     "execution_count": 66,
     "metadata": {},
     "output_type": "execute_result"
    }
   ],
   "source": [
    "df['price_range_loc'].value_counts(dropna = False)"
   ]
  },
  {
   "cell_type": "code",
   "execution_count": 71,
   "id": "2ee3b488-94da-4690-85fd-daf4ae2a1719",
   "metadata": {},
   "outputs": [
    {
     "data": {
      "text/plain": [
       "0           Mid-range product\n",
       "1           Mid-range product\n",
       "2           Low-range product\n",
       "3           Low-range product\n",
       "4           Low-range product\n",
       "                  ...        \n",
       "32404854    Mid-range product\n",
       "32404855    Mid-range product\n",
       "32404856    Low-range product\n",
       "32404857    Low-range product\n",
       "32404858    Low-range product\n",
       "Length: 32404859, dtype: object"
      ]
     },
     "execution_count": 71,
     "metadata": {},
     "output_type": "execute_result"
    }
   ],
   "source": [
    "df_ords_prods_merge.apply(price_label, axis=1)"
   ]
  },
  {
   "cell_type": "code",
   "execution_count": 69,
   "id": "dc3ea4e9-408f-47b6-8c30-1f1ea361c997",
   "metadata": {},
   "outputs": [],
   "source": [
    "# Use loc() method on entire ords_prods_merge dataframe to apply price range function.\n",
    "df_ords_prods_merge.loc[df_ords_prods_merge['prices'] > 15, 'price_range_loc'] = 'High-range product'\n",
    "df_ords_prods_merge.loc[(df_ords_prods_merge['prices'] <= 15) & (df_ords_prods_merge['prices'] > 5), 'price_range_loc'] = 'Mid-range product'\n",
    "df_ords_prods_merge.loc[df_ords_prods_merge['prices'] <= 5, 'price_range_loc'] = 'Low-range product'"
   ]
  },
  {
   "cell_type": "code",
   "execution_count": 72,
   "id": "32fd0abb-9a0f-4363-bf41-1f006d555d53",
   "metadata": {},
   "outputs": [
    {
     "data": {
      "text/plain": [
       "price_range_loc\n",
       "Mid-range product     21865987\n",
       "Low-range product     10126321\n",
       "High-range product      412551\n",
       "Name: count, dtype: int64"
      ]
     },
     "execution_count": 72,
     "metadata": {},
     "output_type": "execute_result"
    }
   ],
   "source": [
    "df_ords_prods_merge['price_range_loc'].value_counts(dropna = False)"
   ]
  },
  {
   "cell_type": "code",
   "execution_count": 93,
   "id": "a4aaf542-d1fb-4d9a-8620-add198c498d9",
   "metadata": {},
   "outputs": [
    {
     "data": {
      "text/html": [
       "<div>\n",
       "<style scoped>\n",
       "    .dataframe tbody tr th:only-of-type {\n",
       "        vertical-align: middle;\n",
       "    }\n",
       "\n",
       "    .dataframe tbody tr th {\n",
       "        vertical-align: top;\n",
       "    }\n",
       "\n",
       "    .dataframe thead th {\n",
       "        text-align: right;\n",
       "    }\n",
       "</style>\n",
       "<table border=\"1\" class=\"dataframe\">\n",
       "  <thead>\n",
       "    <tr style=\"text-align: right;\">\n",
       "      <th></th>\n",
       "      <th>order_id</th>\n",
       "      <th>user_id</th>\n",
       "      <th>order_number</th>\n",
       "      <th>order_dow</th>\n",
       "      <th>order_hour_of_day</th>\n",
       "      <th>days_since_prior_order</th>\n",
       "      <th>product_id</th>\n",
       "      <th>add_to_cart_order</th>\n",
       "      <th>reordered</th>\n",
       "      <th>_merge</th>\n",
       "      <th>product_name</th>\n",
       "      <th>aisle_id</th>\n",
       "      <th>department_id</th>\n",
       "      <th>prices</th>\n",
       "      <th>match</th>\n",
       "      <th>price_range_loc</th>\n",
       "    </tr>\n",
       "  </thead>\n",
       "  <tbody>\n",
       "    <tr>\n",
       "      <th>0</th>\n",
       "      <td>2539329</td>\n",
       "      <td>1</td>\n",
       "      <td>1</td>\n",
       "      <td>2</td>\n",
       "      <td>8</td>\n",
       "      <td>NaN</td>\n",
       "      <td>196</td>\n",
       "      <td>1</td>\n",
       "      <td>0</td>\n",
       "      <td>both</td>\n",
       "      <td>Soda</td>\n",
       "      <td>77</td>\n",
       "      <td>7</td>\n",
       "      <td>9.0</td>\n",
       "      <td>both</td>\n",
       "      <td>Mid-range product</td>\n",
       "    </tr>\n",
       "    <tr>\n",
       "      <th>1</th>\n",
       "      <td>2539329</td>\n",
       "      <td>1</td>\n",
       "      <td>1</td>\n",
       "      <td>2</td>\n",
       "      <td>8</td>\n",
       "      <td>NaN</td>\n",
       "      <td>14084</td>\n",
       "      <td>2</td>\n",
       "      <td>0</td>\n",
       "      <td>both</td>\n",
       "      <td>Organic Unsweetened Vanilla Almond Milk</td>\n",
       "      <td>91</td>\n",
       "      <td>16</td>\n",
       "      <td>12.5</td>\n",
       "      <td>both</td>\n",
       "      <td>Mid-range product</td>\n",
       "    </tr>\n",
       "    <tr>\n",
       "      <th>2</th>\n",
       "      <td>2539329</td>\n",
       "      <td>1</td>\n",
       "      <td>1</td>\n",
       "      <td>2</td>\n",
       "      <td>8</td>\n",
       "      <td>NaN</td>\n",
       "      <td>12427</td>\n",
       "      <td>3</td>\n",
       "      <td>0</td>\n",
       "      <td>both</td>\n",
       "      <td>Original Beef Jerky</td>\n",
       "      <td>23</td>\n",
       "      <td>19</td>\n",
       "      <td>4.4</td>\n",
       "      <td>both</td>\n",
       "      <td>Low-range product</td>\n",
       "    </tr>\n",
       "    <tr>\n",
       "      <th>3</th>\n",
       "      <td>2539329</td>\n",
       "      <td>1</td>\n",
       "      <td>1</td>\n",
       "      <td>2</td>\n",
       "      <td>8</td>\n",
       "      <td>NaN</td>\n",
       "      <td>26088</td>\n",
       "      <td>4</td>\n",
       "      <td>0</td>\n",
       "      <td>both</td>\n",
       "      <td>Aged White Cheddar Popcorn</td>\n",
       "      <td>23</td>\n",
       "      <td>19</td>\n",
       "      <td>4.7</td>\n",
       "      <td>both</td>\n",
       "      <td>Low-range product</td>\n",
       "    </tr>\n",
       "    <tr>\n",
       "      <th>4</th>\n",
       "      <td>2539329</td>\n",
       "      <td>1</td>\n",
       "      <td>1</td>\n",
       "      <td>2</td>\n",
       "      <td>8</td>\n",
       "      <td>NaN</td>\n",
       "      <td>26405</td>\n",
       "      <td>5</td>\n",
       "      <td>0</td>\n",
       "      <td>both</td>\n",
       "      <td>XL Pick-A-Size Paper Towel Rolls</td>\n",
       "      <td>54</td>\n",
       "      <td>17</td>\n",
       "      <td>1.0</td>\n",
       "      <td>both</td>\n",
       "      <td>Low-range product</td>\n",
       "    </tr>\n",
       "    <tr>\n",
       "      <th>...</th>\n",
       "      <td>...</td>\n",
       "      <td>...</td>\n",
       "      <td>...</td>\n",
       "      <td>...</td>\n",
       "      <td>...</td>\n",
       "      <td>...</td>\n",
       "      <td>...</td>\n",
       "      <td>...</td>\n",
       "      <td>...</td>\n",
       "      <td>...</td>\n",
       "      <td>...</td>\n",
       "      <td>...</td>\n",
       "      <td>...</td>\n",
       "      <td>...</td>\n",
       "      <td>...</td>\n",
       "      <td>...</td>\n",
       "    </tr>\n",
       "    <tr>\n",
       "      <th>32404854</th>\n",
       "      <td>2977660</td>\n",
       "      <td>206209</td>\n",
       "      <td>13</td>\n",
       "      <td>1</td>\n",
       "      <td>12</td>\n",
       "      <td>7.0</td>\n",
       "      <td>14197</td>\n",
       "      <td>5</td>\n",
       "      <td>1</td>\n",
       "      <td>both</td>\n",
       "      <td>Tomato Paste</td>\n",
       "      <td>9</td>\n",
       "      <td>9</td>\n",
       "      <td>5.6</td>\n",
       "      <td>both</td>\n",
       "      <td>Mid-range product</td>\n",
       "    </tr>\n",
       "    <tr>\n",
       "      <th>32404855</th>\n",
       "      <td>2977660</td>\n",
       "      <td>206209</td>\n",
       "      <td>13</td>\n",
       "      <td>1</td>\n",
       "      <td>12</td>\n",
       "      <td>7.0</td>\n",
       "      <td>38730</td>\n",
       "      <td>6</td>\n",
       "      <td>0</td>\n",
       "      <td>both</td>\n",
       "      <td>Brownie Crunch High Protein Bar</td>\n",
       "      <td>3</td>\n",
       "      <td>19</td>\n",
       "      <td>5.9</td>\n",
       "      <td>both</td>\n",
       "      <td>Mid-range product</td>\n",
       "    </tr>\n",
       "    <tr>\n",
       "      <th>32404856</th>\n",
       "      <td>2977660</td>\n",
       "      <td>206209</td>\n",
       "      <td>13</td>\n",
       "      <td>1</td>\n",
       "      <td>12</td>\n",
       "      <td>7.0</td>\n",
       "      <td>31477</td>\n",
       "      <td>7</td>\n",
       "      <td>0</td>\n",
       "      <td>both</td>\n",
       "      <td>High Protein Bar Chunky Peanut Butter</td>\n",
       "      <td>3</td>\n",
       "      <td>19</td>\n",
       "      <td>4.2</td>\n",
       "      <td>both</td>\n",
       "      <td>Low-range product</td>\n",
       "    </tr>\n",
       "    <tr>\n",
       "      <th>32404857</th>\n",
       "      <td>2977660</td>\n",
       "      <td>206209</td>\n",
       "      <td>13</td>\n",
       "      <td>1</td>\n",
       "      <td>12</td>\n",
       "      <td>7.0</td>\n",
       "      <td>6567</td>\n",
       "      <td>8</td>\n",
       "      <td>0</td>\n",
       "      <td>both</td>\n",
       "      <td>Chocolate Peanut Butter Protein Bar</td>\n",
       "      <td>3</td>\n",
       "      <td>19</td>\n",
       "      <td>4.9</td>\n",
       "      <td>both</td>\n",
       "      <td>Low-range product</td>\n",
       "    </tr>\n",
       "    <tr>\n",
       "      <th>32404858</th>\n",
       "      <td>2977660</td>\n",
       "      <td>206209</td>\n",
       "      <td>13</td>\n",
       "      <td>1</td>\n",
       "      <td>12</td>\n",
       "      <td>7.0</td>\n",
       "      <td>22920</td>\n",
       "      <td>9</td>\n",
       "      <td>0</td>\n",
       "      <td>both</td>\n",
       "      <td>Roasted &amp; Salted Shelled Pistachios</td>\n",
       "      <td>117</td>\n",
       "      <td>19</td>\n",
       "      <td>1.7</td>\n",
       "      <td>both</td>\n",
       "      <td>Low-range product</td>\n",
       "    </tr>\n",
       "  </tbody>\n",
       "</table>\n",
       "<p>32404859 rows × 16 columns</p>\n",
       "</div>"
      ],
      "text/plain": [
       "          order_id  user_id  order_number  order_dow  order_hour_of_day  \\\n",
       "0          2539329        1             1          2                  8   \n",
       "1          2539329        1             1          2                  8   \n",
       "2          2539329        1             1          2                  8   \n",
       "3          2539329        1             1          2                  8   \n",
       "4          2539329        1             1          2                  8   \n",
       "...            ...      ...           ...        ...                ...   \n",
       "32404854   2977660   206209            13          1                 12   \n",
       "32404855   2977660   206209            13          1                 12   \n",
       "32404856   2977660   206209            13          1                 12   \n",
       "32404857   2977660   206209            13          1                 12   \n",
       "32404858   2977660   206209            13          1                 12   \n",
       "\n",
       "          days_since_prior_order  product_id  add_to_cart_order  reordered  \\\n",
       "0                            NaN         196                  1          0   \n",
       "1                            NaN       14084                  2          0   \n",
       "2                            NaN       12427                  3          0   \n",
       "3                            NaN       26088                  4          0   \n",
       "4                            NaN       26405                  5          0   \n",
       "...                          ...         ...                ...        ...   \n",
       "32404854                     7.0       14197                  5          1   \n",
       "32404855                     7.0       38730                  6          0   \n",
       "32404856                     7.0       31477                  7          0   \n",
       "32404857                     7.0        6567                  8          0   \n",
       "32404858                     7.0       22920                  9          0   \n",
       "\n",
       "         _merge                             product_name  aisle_id  \\\n",
       "0          both                                     Soda        77   \n",
       "1          both  Organic Unsweetened Vanilla Almond Milk        91   \n",
       "2          both                      Original Beef Jerky        23   \n",
       "3          both               Aged White Cheddar Popcorn        23   \n",
       "4          both         XL Pick-A-Size Paper Towel Rolls        54   \n",
       "...         ...                                      ...       ...   \n",
       "32404854   both                             Tomato Paste         9   \n",
       "32404855   both          Brownie Crunch High Protein Bar         3   \n",
       "32404856   both    High Protein Bar Chunky Peanut Butter         3   \n",
       "32404857   both      Chocolate Peanut Butter Protein Bar         3   \n",
       "32404858   both      Roasted & Salted Shelled Pistachios       117   \n",
       "\n",
       "          department_id  prices match    price_range_loc  \n",
       "0                     7     9.0  both  Mid-range product  \n",
       "1                    16    12.5  both  Mid-range product  \n",
       "2                    19     4.4  both  Low-range product  \n",
       "3                    19     4.7  both  Low-range product  \n",
       "4                    17     1.0  both  Low-range product  \n",
       "...                 ...     ...   ...                ...  \n",
       "32404854              9     5.6  both  Mid-range product  \n",
       "32404855             19     5.9  both  Mid-range product  \n",
       "32404856             19     4.2  both  Low-range product  \n",
       "32404857             19     4.9  both  Low-range product  \n",
       "32404858             19     1.7  both  Low-range product  \n",
       "\n",
       "[32404859 rows x 16 columns]"
      ]
     },
     "execution_count": 93,
     "metadata": {},
     "output_type": "execute_result"
    }
   ],
   "source": [
    "df_ords_prods_merge"
   ]
  },
  {
   "cell_type": "markdown",
   "id": "91f4eb2d-0591-46d9-8320-7cee53f422aa",
   "metadata": {},
   "source": [
    "# 1.2. Create\"busiest_day\""
   ]
  },
  {
   "cell_type": "code",
   "execution_count": 106,
   "id": "ef2403a9-2279-4c5e-a061-28db38f10367",
   "metadata": {},
   "outputs": [
    {
     "data": {
      "text/plain": [
       "order_dow\n",
       "0    6204182\n",
       "1    5660230\n",
       "6    4496490\n",
       "2    4213830\n",
       "5    4205791\n",
       "3    3840534\n",
       "4    3783802\n",
       "Name: count, dtype: int64"
      ]
     },
     "execution_count": 106,
     "metadata": {},
     "output_type": "execute_result"
    }
   ],
   "source": [
    "# Find frequency of orders_day_of_the_week.\n",
    "df_ords_prods_merge['order_dow'].value_counts(dropna = False)"
   ]
  },
  {
   "cell_type": "code",
   "execution_count": 96,
   "id": "2ff2ecac-17d7-49c7-83c7-09149357d265",
   "metadata": {},
   "outputs": [],
   "source": [
    "# Use for-loop to determine whether orders are on \\\"busiest day\\\" (0 = Saturday), \\\"least busy\\\" (4 = Wednesday), or \\\"regularly busy\\\" (other days of the week).\\n\",\n",
    "result = []\n",
    "for value in df_ords_prods_merge[\"order_dow\"]:\n",
    "    if value == 0: result.append(\"Busiest day\")\n",
    "    elif value == 4: result.append(\"Least busy\")\n",
    "    else: result.append(\"Regularly busy\")"
   ]
  },
  {
   "cell_type": "code",
   "execution_count": 97,
   "id": "ba401ff5-f4c3-4f51-bfbe-c6551f398ccd",
   "metadata": {},
   "outputs": [],
   "source": [
    "# Create new column in ords_prods_merge to view results in context.\n",
    "df_ords_prods_merge['busiest_day'] = result"
   ]
  },
  {
   "cell_type": "code",
   "execution_count": 98,
   "id": "5e455caf-6b19-49bb-a373-d41616d999f8",
   "metadata": {},
   "outputs": [
    {
     "data": {
      "text/plain": [
       "busiest_day\n",
       "Regularly busy    22416875\n",
       "Busiest day        6204182\n",
       "Least busy         3783802\n",
       "Name: count, dtype: int64"
      ]
     },
     "execution_count": 98,
     "metadata": {},
     "output_type": "execute_result"
    }
   ],
   "source": [
    "df_ords_prods_merge['busiest_day'].value_counts(dropna = False)"
   ]
  },
  {
   "cell_type": "markdown",
   "id": "6fd86ca3-355c-41ff-8112-6291ec9b1907",
   "metadata": {},
   "source": [
    "# 2. Update\"busiest day\" column to \"busiest days\" to identify order day of the week as \"Busiest days,\" \"Slowest days,\" or \"Regularly busy.\""
   ]
  },
  {
   "cell_type": "code",
   "execution_count": 102,
   "id": "e97706f5-4c2b-488e-a18c-62119347d49f",
   "metadata": {},
   "outputs": [],
   "source": [
    "# Create column \"busiest_days\" from \"orders_day_of_week\" to identify two busiest days (0, 1), slowest days (4, 3), or regularly busy (all other days).\n",
    "result_2 = []\n",
    "for value in df_ords_prods_merge[\"order_dow\"]:\n",
    "    if value == 0 or value == 1:  result_2.append(\"Busiest days\")\n",
    "    elif value == 4 or value == 3: result_2.append(\"Slowest days\")\n",
    "    else: result_2.append(\"Regularly busy\")"
   ]
  },
  {
   "cell_type": "markdown",
   "id": "32c13418-26a9-4086-8d79-0a5773c3e7b7",
   "metadata": {},
   "source": [
    "# 3. Check values of new \"busiest days\" column for accuracy with observations in markdown format."
   ]
  },
  {
   "cell_type": "code",
   "execution_count": 103,
   "id": "50f58d61-7218-4741-9cac-e154d31d688c",
   "metadata": {},
   "outputs": [],
   "source": [
    "# Create new 'busiest_days' column in ords_prods_merge to view results in context.\n",
    "df_ords_prods_merge['busiest_days'] = result_2"
   ]
  },
  {
   "cell_type": "code",
   "execution_count": 104,
   "id": "7ec96c58-1531-4f4a-b54e-2dce14ad4180",
   "metadata": {},
   "outputs": [
    {
     "data": {
      "text/plain": [
       "busiest_days\n",
       "Regularly busy    12916111\n",
       "Busiest days      11864412\n",
       "Slowest days       7624336\n",
       "Name: count, dtype: int64"
      ]
     },
     "execution_count": 104,
     "metadata": {},
     "output_type": "execute_result"
    }
   ],
   "source": [
    "df_ords_prods_merge['busiest_days'].value_counts(dropna = False)"
   ]
  },
  {
   "cell_type": "code",
   "execution_count": 105,
   "id": "e2031f27-cc54-4e55-8885-20fddbe56421",
   "metadata": {},
   "outputs": [
    {
     "data": {
      "text/html": [
       "<div>\n",
       "<style scoped>\n",
       "    .dataframe tbody tr th:only-of-type {\n",
       "        vertical-align: middle;\n",
       "    }\n",
       "\n",
       "    .dataframe tbody tr th {\n",
       "        vertical-align: top;\n",
       "    }\n",
       "\n",
       "    .dataframe thead th {\n",
       "        text-align: right;\n",
       "    }\n",
       "</style>\n",
       "<table border=\"1\" class=\"dataframe\">\n",
       "  <thead>\n",
       "    <tr style=\"text-align: right;\">\n",
       "      <th></th>\n",
       "      <th>order_id</th>\n",
       "      <th>user_id</th>\n",
       "      <th>order_number</th>\n",
       "      <th>order_dow</th>\n",
       "      <th>order_hour_of_day</th>\n",
       "      <th>days_since_prior_order</th>\n",
       "      <th>product_id</th>\n",
       "      <th>add_to_cart_order</th>\n",
       "      <th>reordered</th>\n",
       "      <th>_merge</th>\n",
       "      <th>product_name</th>\n",
       "      <th>aisle_id</th>\n",
       "      <th>department_id</th>\n",
       "      <th>prices</th>\n",
       "      <th>match</th>\n",
       "      <th>price_range_loc</th>\n",
       "      <th>busiest_day</th>\n",
       "      <th>busiest_days</th>\n",
       "    </tr>\n",
       "  </thead>\n",
       "  <tbody>\n",
       "    <tr>\n",
       "      <th>0</th>\n",
       "      <td>2539329</td>\n",
       "      <td>1</td>\n",
       "      <td>1</td>\n",
       "      <td>2</td>\n",
       "      <td>8</td>\n",
       "      <td>NaN</td>\n",
       "      <td>196</td>\n",
       "      <td>1</td>\n",
       "      <td>0</td>\n",
       "      <td>both</td>\n",
       "      <td>Soda</td>\n",
       "      <td>77</td>\n",
       "      <td>7</td>\n",
       "      <td>9.0</td>\n",
       "      <td>both</td>\n",
       "      <td>Mid-range product</td>\n",
       "      <td>Regularly busy</td>\n",
       "      <td>Regularly busy</td>\n",
       "    </tr>\n",
       "    <tr>\n",
       "      <th>1</th>\n",
       "      <td>2539329</td>\n",
       "      <td>1</td>\n",
       "      <td>1</td>\n",
       "      <td>2</td>\n",
       "      <td>8</td>\n",
       "      <td>NaN</td>\n",
       "      <td>14084</td>\n",
       "      <td>2</td>\n",
       "      <td>0</td>\n",
       "      <td>both</td>\n",
       "      <td>Organic Unsweetened Vanilla Almond Milk</td>\n",
       "      <td>91</td>\n",
       "      <td>16</td>\n",
       "      <td>12.5</td>\n",
       "      <td>both</td>\n",
       "      <td>Mid-range product</td>\n",
       "      <td>Regularly busy</td>\n",
       "      <td>Regularly busy</td>\n",
       "    </tr>\n",
       "    <tr>\n",
       "      <th>2</th>\n",
       "      <td>2539329</td>\n",
       "      <td>1</td>\n",
       "      <td>1</td>\n",
       "      <td>2</td>\n",
       "      <td>8</td>\n",
       "      <td>NaN</td>\n",
       "      <td>12427</td>\n",
       "      <td>3</td>\n",
       "      <td>0</td>\n",
       "      <td>both</td>\n",
       "      <td>Original Beef Jerky</td>\n",
       "      <td>23</td>\n",
       "      <td>19</td>\n",
       "      <td>4.4</td>\n",
       "      <td>both</td>\n",
       "      <td>Low-range product</td>\n",
       "      <td>Regularly busy</td>\n",
       "      <td>Regularly busy</td>\n",
       "    </tr>\n",
       "    <tr>\n",
       "      <th>3</th>\n",
       "      <td>2539329</td>\n",
       "      <td>1</td>\n",
       "      <td>1</td>\n",
       "      <td>2</td>\n",
       "      <td>8</td>\n",
       "      <td>NaN</td>\n",
       "      <td>26088</td>\n",
       "      <td>4</td>\n",
       "      <td>0</td>\n",
       "      <td>both</td>\n",
       "      <td>Aged White Cheddar Popcorn</td>\n",
       "      <td>23</td>\n",
       "      <td>19</td>\n",
       "      <td>4.7</td>\n",
       "      <td>both</td>\n",
       "      <td>Low-range product</td>\n",
       "      <td>Regularly busy</td>\n",
       "      <td>Regularly busy</td>\n",
       "    </tr>\n",
       "    <tr>\n",
       "      <th>4</th>\n",
       "      <td>2539329</td>\n",
       "      <td>1</td>\n",
       "      <td>1</td>\n",
       "      <td>2</td>\n",
       "      <td>8</td>\n",
       "      <td>NaN</td>\n",
       "      <td>26405</td>\n",
       "      <td>5</td>\n",
       "      <td>0</td>\n",
       "      <td>both</td>\n",
       "      <td>XL Pick-A-Size Paper Towel Rolls</td>\n",
       "      <td>54</td>\n",
       "      <td>17</td>\n",
       "      <td>1.0</td>\n",
       "      <td>both</td>\n",
       "      <td>Low-range product</td>\n",
       "      <td>Regularly busy</td>\n",
       "      <td>Regularly busy</td>\n",
       "    </tr>\n",
       "  </tbody>\n",
       "</table>\n",
       "</div>"
      ],
      "text/plain": [
       "   order_id  user_id  order_number  order_dow  order_hour_of_day  \\\n",
       "0   2539329        1             1          2                  8   \n",
       "1   2539329        1             1          2                  8   \n",
       "2   2539329        1             1          2                  8   \n",
       "3   2539329        1             1          2                  8   \n",
       "4   2539329        1             1          2                  8   \n",
       "\n",
       "   days_since_prior_order  product_id  add_to_cart_order  reordered _merge  \\\n",
       "0                     NaN         196                  1          0   both   \n",
       "1                     NaN       14084                  2          0   both   \n",
       "2                     NaN       12427                  3          0   both   \n",
       "3                     NaN       26088                  4          0   both   \n",
       "4                     NaN       26405                  5          0   both   \n",
       "\n",
       "                              product_name  aisle_id  department_id  prices  \\\n",
       "0                                     Soda        77              7     9.0   \n",
       "1  Organic Unsweetened Vanilla Almond Milk        91             16    12.5   \n",
       "2                      Original Beef Jerky        23             19     4.4   \n",
       "3               Aged White Cheddar Popcorn        23             19     4.7   \n",
       "4         XL Pick-A-Size Paper Towel Rolls        54             17     1.0   \n",
       "\n",
       "  match    price_range_loc     busiest_day    busiest_days  \n",
       "0  both  Mid-range product  Regularly busy  Regularly busy  \n",
       "1  both  Mid-range product  Regularly busy  Regularly busy  \n",
       "2  both  Low-range product  Regularly busy  Regularly busy  \n",
       "3  both  Low-range product  Regularly busy  Regularly busy  \n",
       "4  both  Low-range product  Regularly busy  Regularly busy  "
      ]
     },
     "execution_count": 105,
     "metadata": {},
     "output_type": "execute_result"
    }
   ],
   "source": [
    "# Check output of ords_prods_merge with new \"busiest days\" column.\n",
    "df_ords_prods_merge.head ()"
   ]
  },
  {
   "cell_type": "markdown",
   "id": "8fd91e4f-7952-425b-a71e-de5a790dc44f",
   "metadata": {},
   "source": [
    "The total value counts for the ords_prods_merge dataframe is equal to the total sum of all groupings (i.e. \"Regularly busy\" + \"Busiest days\" + \"Slowest days\"). In addition, the listed sums for each label match the sum totals for the qualifying days of the week (e.g. Total \"Busiest days\" = 11864412, which matches order_dow 0 + 1, or 6204182 + 5660230)."
   ]
  },
  {
   "cell_type": "markdown",
   "id": "ff7c3798-c2ce-49d5-b0b8-7759c2278a87",
   "metadata": {},
   "source": [
    "# 4. Create new column \"busiest_period_of_day\" to identify time labeled “Most orders,” “Average orders,” and “Fewest orders.”"
   ]
  },
  {
   "cell_type": "code",
   "execution_count": 108,
   "id": "5dec6314-6af7-4280-908d-42afe28ec77b",
   "metadata": {},
   "outputs": [
    {
     "data": {
      "text/plain": [
       "order_hour_of_day\n",
       "10    2761760\n",
       "11    2736140\n",
       "14    2689136\n",
       "15    2662144\n",
       "13    2660954\n",
       "12    2618532\n",
       "16    2535202\n",
       "9     2454203\n",
       "17    2087654\n",
       "8     1718118\n",
       "18    1636502\n",
       "19    1258305\n",
       "20     976156\n",
       "7      891054\n",
       "21     795637\n",
       "22     634225\n",
       "23     402316\n",
       "6      290493\n",
       "0      218769\n",
       "1      115700\n",
       "5       87961\n",
       "2       69375\n",
       "4       53242\n",
       "3       51281\n",
       "Name: count, dtype: int64"
      ]
     },
     "execution_count": 108,
     "metadata": {},
     "output_type": "execute_result"
    }
   ],
   "source": [
    "# Check value counts in \"order_hour_of_day\" column\n",
    "df_ords_prods_merge['order_hour_of_day'].value_counts()"
   ]
  },
  {
   "cell_type": "markdown",
   "id": "e6099b44-cfbe-4856-82b6-50b7e1d3e996",
   "metadata": {},
   "source": [
    "The value counts listed above will be split into equal thirds for the following labels: \"Most orders\" = 10, 11, 14, 15, 13, 12, 16, and 9; \"Fewest orders\" = 23, 6, 0, 1, 5, 2, 4, and 3; \"Average orders\" = all remaining values in order_hour_of_day."
   ]
  },
  {
   "cell_type": "code",
   "execution_count": 109,
   "id": "8c5920c5-ad53-4d9b-8845-dae3db59d20f",
   "metadata": {},
   "outputs": [],
   "source": [
    "# Create for-loop if statement labeling periods of time as “Most orders,” “Average orders,” and “Fewest orders.”\n",
    "result_3 = []\n",
    "for value in df_ords_prods_merge[\"order_hour_of_day\"]:\n",
    "    if value in [10, 11, 14, 15, 13, 12, 16, 9]: result_3.append(\"Most orders\")\n",
    "    elif value in [23, 6, 0, 1, 5, 2, 4, 3]: result_3.append(\"Fewest orders\")\n",
    "    else: result_3.append(\"Average orders\")"
   ]
  },
  {
   "cell_type": "code",
   "execution_count": 110,
   "id": "6d2942f0-ea41-4ca5-a866-d2d6c05b77e5",
   "metadata": {},
   "outputs": [],
   "source": [
    "# Create new column \"busiest_period_of_day\" in ords_prods_merge\n",
    "df_ords_prods_merge['busiest_period_of_day'] = result_3"
   ]
  },
  {
   "cell_type": "markdown",
   "id": "239fc25e-eb5d-4d37-b9a4-68536af63f7a",
   "metadata": {},
   "source": [
    "# 5. Print frequency of \"busiest_period_of_day\" column\n"
   ]
  },
  {
   "cell_type": "code",
   "execution_count": 111,
   "id": "b228eb74-b7cb-4fee-9a50-cb6c9e0a379b",
   "metadata": {},
   "outputs": [
    {
     "data": {
      "text/plain": [
       "busiest_period_of_day\n",
       "Most orders       21118071\n",
       "Average orders     9997651\n",
       "Fewest orders      1289137\n",
       "Name: count, dtype: int64"
      ]
     },
     "execution_count": 111,
     "metadata": {},
     "output_type": "execute_result"
    }
   ],
   "source": [
    "# Print value counts in \\\"busiest_period_of_day\\\" column\n",
    "df_ords_prods_merge['busiest_period_of_day'].value_counts(dropna = False)"
   ]
  },
  {
   "cell_type": "code",
   "execution_count": 112,
   "id": "57025f64-a735-4f39-803c-ea60f7edbd2b",
   "metadata": {},
   "outputs": [
    {
     "name": "stdout",
     "output_type": "stream",
     "text": [
      "<class 'pandas.core.frame.DataFrame'>\n",
      "RangeIndex: 32404859 entries, 0 to 32404858\n",
      "Data columns (total 19 columns):\n",
      " #   Column                  Dtype   \n",
      "---  ------                  -----   \n",
      " 0   order_id                int64   \n",
      " 1   user_id                 int64   \n",
      " 2   order_number            int64   \n",
      " 3   order_dow               int64   \n",
      " 4   order_hour_of_day       int64   \n",
      " 5   days_since_prior_order  float64 \n",
      " 6   product_id              int64   \n",
      " 7   add_to_cart_order       int64   \n",
      " 8   reordered               int64   \n",
      " 9   _merge                  category\n",
      " 10  product_name            object  \n",
      " 11  aisle_id                int64   \n",
      " 12  department_id           int64   \n",
      " 13  prices                  float64 \n",
      " 14  match                   category\n",
      " 15  price_range_loc         object  \n",
      " 16  busiest_day             object  \n",
      " 17  busiest_days            object  \n",
      " 18  busiest_period_of_day   object  \n",
      "dtypes: category(2), float64(2), int64(10), object(5)\n",
      "memory usage: 4.2+ GB\n"
     ]
    }
   ],
   "source": [
    "df_ords_prods_merge.info()"
   ]
  },
  {
   "cell_type": "markdown",
   "id": "e43fa5ed-f7be-45ca-8d3c-1fc3ca017fb7",
   "metadata": {},
   "source": [
    "# Export new dataframe as a pickle file "
   ]
  },
  {
   "cell_type": "code",
   "execution_count": 113,
   "id": "e46e3876-37d3-42e1-8055-184121df7836",
   "metadata": {},
   "outputs": [],
   "source": [
    "df_ords_prods_merge.to_pickle(os.path.join(path, '02 Data', 'Prepared Data', 'orders_products_merged_updated.pkl'))"
   ]
  }
 ],
 "metadata": {
  "kernelspec": {
   "display_name": "Python [conda env:base] *",
   "language": "python",
   "name": "conda-base-py"
  },
  "language_info": {
   "codemirror_mode": {
    "name": "ipython",
    "version": 3
   },
   "file_extension": ".py",
   "mimetype": "text/x-python",
   "name": "python",
   "nbconvert_exporter": "python",
   "pygments_lexer": "ipython3",
   "version": "3.12.7"
  }
 },
 "nbformat": 4,
 "nbformat_minor": 5
}
