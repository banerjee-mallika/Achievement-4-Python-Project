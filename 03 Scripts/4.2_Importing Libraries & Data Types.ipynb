{
 "cells": [
  {
   "cell_type": "markdown",
   "id": "880822b6-d675-4427-8672-43970f48f1e2",
   "metadata": {},
   "source": [
    "Importing Libraries"
   ]
  },
  {
   "cell_type": "code",
   "execution_count": 26,
   "id": "bbc0e46a-b4b2-4986-81e6-c8efb5375e73",
   "metadata": {},
   "outputs": [],
   "source": [
    "# inporting libraries\n",
    "import pandas as pd\n",
    "import numpy as np\n",
    "import os"
   ]
  },
  {
   "cell_type": "markdown",
   "id": "28ca2689-c1eb-4fe1-bff1-789d1f93355c",
   "metadata": {},
   "source": [
    "Python Data Types"
   ]
  },
  {
   "cell_type": "markdown",
   "id": "3fe20ecf-4e14-41c9-95da-5860889b5ac8",
   "metadata": {},
   "source": [
    "Step 7- Code 3 different ways of reaching a result of 100 "
   ]
  },
  {
   "cell_type": "code",
   "execution_count": 27,
   "id": "3c05a80d-f818-443e-af3c-cdba260285dc",
   "metadata": {},
   "outputs": [
    {
     "name": "stdout",
     "output_type": "stream",
     "text": [
      "100\n"
     ]
    }
   ],
   "source": [
    "x=10\n",
    "y=90\n",
    "print(x+y)"
   ]
  },
  {
   "cell_type": "code",
   "execution_count": 28,
   "id": "946f9127-c2a9-4ea8-bb70-4a81d9798f12",
   "metadata": {},
   "outputs": [
    {
     "name": "stdout",
     "output_type": "stream",
     "text": [
      "100\n"
     ]
    }
   ],
   "source": [
    "x=110\n",
    "y=10\n",
    "print(x-y)"
   ]
  },
  {
   "cell_type": "code",
   "execution_count": 29,
   "id": "5b5d8835-40de-488f-bc2c-67b4c5cb25a8",
   "metadata": {},
   "outputs": [
    {
     "name": "stdout",
     "output_type": "stream",
     "text": [
      "100\n"
     ]
    }
   ],
   "source": [
    "x=25\n",
    "y=4\n",
    "print(x*y)"
   ]
  },
  {
   "cell_type": "markdown",
   "id": "1000bf67-b3b8-46cd-b5d5-b6f71132d9e1",
   "metadata": {},
   "source": [
    "Step 8-  Code 2 floating-point variables and divide them"
   ]
  },
  {
   "cell_type": "code",
   "execution_count": 30,
   "id": "69191577-b4e9-40b8-8de0-8d4b7f6748b2",
   "metadata": {},
   "outputs": [
    {
     "name": "stdout",
     "output_type": "stream",
     "text": [
      "25.0\n"
     ]
    }
   ],
   "source": [
    "x=1.25\n",
    "y=0.05\n",
    "print(x/y)"
   ]
  },
  {
   "cell_type": "code",
   "execution_count": 31,
   "id": "a32e767c-7c3c-4201-87c5-7a93c8ffbbc3",
   "metadata": {},
   "outputs": [
    {
     "name": "stdout",
     "output_type": "stream",
     "text": [
      "2.0\n"
     ]
    }
   ],
   "source": [
    "x=22.22\n",
    "y=11.11\n",
    "print(x/y)"
   ]
  },
  {
   "cell_type": "markdown",
   "id": "9229fe2c-c9b4-409c-979c-53dac8c95e95",
   "metadata": {},
   "source": [
    "Step 9 - Construct a short word made of separate strings"
   ]
  },
  {
   "cell_type": "code",
   "execution_count": 32,
   "id": "fdde5447-64ae-4421-b8e5-3cc2de969cdc",
   "metadata": {
    "scrolled": true
   },
   "outputs": [
    {
     "name": "stdout",
     "output_type": "stream",
     "text": [
      "Joyful\n"
     ]
    }
   ],
   "source": [
    "x='Joy'\n",
    "y='ful'\n",
    "print(x+y)"
   ]
  },
  {
   "cell_type": "markdown",
   "id": "2447eab7-6814-43b0-9c73-a46dce08e32d",
   "metadata": {},
   "source": [
    "Step 10 - Construct 2 short sentences made of separate strings."
   ]
  },
  {
   "cell_type": "code",
   "execution_count": 33,
   "id": "1cbc956a-706b-41c9-9b34-7b8bbc057a3a",
   "metadata": {},
   "outputs": [
    {
     "name": "stdout",
     "output_type": "stream",
     "text": [
      "Sun is bright.\n"
     ]
    }
   ],
   "source": [
    "x='Sun'\n",
    "y=' is'\n",
    "z=' bright.'\n",
    "print(x+y+z)"
   ]
  },
  {
   "cell_type": "code",
   "execution_count": 34,
   "id": "1e4ca2ea-fdb9-43be-9f2b-574f91cee569",
   "metadata": {},
   "outputs": [
    {
     "name": "stdout",
     "output_type": "stream",
     "text": [
      "Let us go out because it is a bright sunny day.\n"
     ]
    }
   ],
   "source": [
    "x='Let us go out'\n",
    "y=' because'\n",
    "z=' it is a bright sunny day.'\n",
    "print(x+y+z)"
   ]
  },
  {
   "cell_type": "markdown",
   "id": "a160bbdb-74bf-46b3-a682-5a3fe519f9a9",
   "metadata": {},
   "source": [
    "BONUS TASK"
   ]
  },
  {
   "cell_type": "code",
   "execution_count": 35,
   "id": "90ad8284-710f-4b64-a0b3-defcd3fa9f39",
   "metadata": {},
   "outputs": [
    {
     "name": "stdout",
     "output_type": "stream",
     "text": [
      "Python, Python, Python, Python, Python, Python, Python, Python, Python, Python, Python, Python, Python, Python, Python, Python, Python, Python, Python, Python, Python, Python, Python, Python, Python, Python, Python, Python, Python, Python, Python, Python, Python, Python, Python, Python, Python, Python, Python, Python, Python, Python, Python, Python, Python, Python, Python, Python, Python, Python, Python, Python, Python, Python, Python, Python, Python, Python, Python, Python, Python, Python, Python, Python, Python, Python, Python, Python, Python, Python, Python, Python, Python, Python, Python, Python, Python, Python, Python, Python, Python, Python, Python, Python, Python, Python, Python, Python, Python, Python, Python, Python, Python, Python, Python, Python, Python, Python, Python, Python, \n"
     ]
    }
   ],
   "source": [
    "x='Python, '\n",
    "print(x*100)"
   ]
  }
 ],
 "metadata": {
  "kernelspec": {
   "display_name": "Python [conda env:base] *",
   "language": "python",
   "name": "conda-base-py"
  },
  "language_info": {
   "codemirror_mode": {
    "name": "ipython",
    "version": 3
   },
   "file_extension": ".py",
   "mimetype": "text/x-python",
   "name": "python",
   "nbconvert_exporter": "python",
   "pygments_lexer": "ipython3",
   "version": "3.12.7"
  }
 },
 "nbformat": 4,
 "nbformat_minor": 5
}
